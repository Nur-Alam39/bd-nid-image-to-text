{
  "nbformat": 4,
  "nbformat_minor": 0,
  "metadata": {
    "colab": {
      "name": "bd nid ocr.ipynb",
      "provenance": [],
      "authorship_tag": "ABX9TyOokpbRDa1um8rxDVunW70I",
      "include_colab_link": true
    },
    "kernelspec": {
      "name": "python3",
      "display_name": "Python 3"
    },
    "language_info": {
      "name": "python"
    }
  },
  "cells": [
    {
      "cell_type": "markdown",
      "metadata": {
        "id": "view-in-github",
        "colab_type": "text"
      },
      "source": [
        "<a href=\"https://colab.research.google.com/github/Nur-Alam39/bd-nid-image-to-text/blob/main/bd_nid_ocr.ipynb\" target=\"_parent\"><img src=\"https://colab.research.google.com/assets/colab-badge.svg\" alt=\"Open In Colab\"/></a>"
      ]
    },
    {
      "cell_type": "code",
      "metadata": {
        "id": "R1TFEwBSKms9"
      },
      "source": [
        "pip install easyocr"
      ],
      "execution_count": null,
      "outputs": []
    },
    {
      "cell_type": "code",
      "metadata": {
        "colab": {
          "base_uri": "https://localhost:8080/"
        },
        "id": "IjkAbAV0JOLM",
        "outputId": "7ce72b1f-baa8-4cfc-de32-69d606d05106"
      },
      "source": [
        "import easyocr\n",
        "IMAGE_PATH = '/content/nid_1.jpg'\n",
        "\n",
        "reader = easyocr.Reader(['en', 'bn'], gpu = True)\n",
        "result = reader.readtext(IMAGE_PATH)\n",
        "result\n",
        "\n",
        "text = []\n",
        "f = open(\"nid.txt\", 'w')\n",
        "\n",
        "for detection in result:\n",
        "  text.append(detection[1])\n",
        "  f.write(i)\n",
        "  f.write('\\n')\n",
        "  print (detection[1])\n",
        "\n",
        "f.close()"
      ],
      "execution_count": 7,
      "outputs": [
        {
          "output_type": "stream",
          "name": "stderr",
          "text": [
            "CUDA not available - defaulting to CPU. Note: This module is much faster with a GPU.\n"
          ]
        },
        {
          "output_type": "stream",
          "name": "stdout",
          "text": [
            "গণপ্রজাতন্ত্রী বাংলাদেশ সরকার\n",
            "GovemaceLotithe People's Republic o1 Bangladesh\n",
            "জাতীয় পরিচয়পত্র\n",
            "National ID Card\n",
            "17[|84 1975\n",
            "রোমানী রহমান\n",
            "[dEe\n",
            "ROMANARAHHAN\n",
            "475\n",
            "সোহরাব উদ্দীন খান\n",
            "ফিরোজ্গা বেগম\n",
            "OatetolBL7\n",
            "12 May 1975\n",
            "যেপসT\n",
            "d৫Hগ\n",
            "৮10 149\n",
            "867 367 4936\n"
          ]
        }
      ]
    }
  ]
}